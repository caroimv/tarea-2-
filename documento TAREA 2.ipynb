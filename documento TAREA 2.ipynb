{
 "cells": [
  {
   "cell_type": "code",
   "execution_count": 2,
   "id": "35da5ca5",
   "metadata": {},
   "outputs": [],
   "source": [
    "from numpy import *"
   ]
  },
  {
   "cell_type": "code",
   "execution_count": 4,
   "id": "77edf2f2",
   "metadata": {},
   "outputs": [
    {
     "name": "stdout",
     "output_type": "stream",
     "text": [
      "el costo del auto de mis sueños es de $: 50000000\n"
     ]
    }
   ],
   "source": [
    "costo_auto = 50000000 #el valor prommedio del auto de mi sueños\n",
    "print(f\"el costo del auto de mis sueños es de $: {costo_auto}\")"
   ]
  },
  {
   "cell_type": "code",
   "execution_count": 13,
   "id": "e0e269fc",
   "metadata": {},
   "outputs": [
    {
     "name": "stdout",
     "output_type": "stream",
     "text": [
      "la proporcion del valor del auto necesaria para el pago inicial es de:20.0%\n"
     ]
    }
   ],
   "source": [
    "proporcion_pago_inicial = 0.2\n",
    "print ( f\"la proporcion del valor del auto necesaria para el pago inicial es de:{proporcion_pago_inicial *100}%\")"
   ]
  },
  {
   "cell_type": "code",
   "execution_count": 14,
   "id": "7b9ae5b1",
   "metadata": {},
   "outputs": [
    {
     "name": "stdout",
     "output_type": "stream",
     "text": [
      "Mi ahorro actual es de $ 0\n"
     ]
    }
   ],
   "source": [
    "ahorro_actual = 0 \n",
    "print(f\"Mi ahorro actual es de $ {ahorro_actual}\")"
   ]
  },
  {
   "cell_type": "code",
   "execution_count": 12,
   "id": "0144adea",
   "metadata": {},
   "outputs": [
    {
     "name": "stdout",
     "output_type": "stream",
     "text": [
      "mi salario mensual es de $: 2600000\n"
     ]
    }
   ],
   "source": [
    "salario_mensual = 2600000\n",
    "print (f\"mi salario mensual es de $: {salario_mensual}\")"
   ]
  },
  {
   "cell_type": "code",
   "execution_count": 2,
   "id": "53cdf954",
   "metadata": {},
   "outputs": [
    {
     "name": "stdout",
     "output_type": "stream",
     "text": [
      "voy a ahorrar $: 260000.0 cada mes\n"
     ]
    }
   ],
   "source": [
    "proporcion_ahorrada = 0.1\n",
    "salario_mensual = 2600000\n",
    "ahorro_mensual = salario_mensual * proporcion_ahorrada\n",
    "print(f\"voy a ahorrar $: { ahorro_mensual} cada mes\")"
   ]
  },
  {
   "cell_type": "code",
   "execution_count": 32,
   "id": "6fa4dfbb",
   "metadata": {},
   "outputs": [],
   "source": [
    "def calcular_meses_para_pago_inicial(salario_mensual, proporcion_ahorrada, costo_auto):\n",
    "    ahorro_actual = 0\n",
    "    meses = 0\n",
    "    while ahorro_actual < costo_auto * 0.2:\n",
    "        ahorro_actual += salario_mensual * proporcion_ahorrada\n",
    "        meses += 1\n",
    "    return salario_mensual, proporcion_ahorrada, costo_auto, meses"
   ]
  },
  {
   "cell_type": "code",
   "execution_count": 33,
   "id": "d9a559fa",
   "metadata": {},
   "outputs": [
    {
     "name": "stdout",
     "output_type": "stream",
     "text": [
      "Salario mensual: 2600000\n",
      "Porcentaje de salario mensual que ahorrará: 0.1\n",
      "Costo del auto de tus sueños: 50000000\n",
      "Número de meses para ahorrar: 39\n"
     ]
    }
   ],
   "source": [
    "salario_mensual = 2600000\n",
    "proporcion_ahorrada  = 0.1\n",
    "costo_auto = 50000000\n",
    "#llamamos cada resultado que da la funcion\n",
    "resultado = calcular_meses_para_pago_inicial(salario_mensual, proporcion_ahorrada, costo_auto)\n",
    "print(\"Salario mensual:\", resultado[0])\n",
    "print(\"Porcentaje de salario mensual que ahorrará:\", resultado[1])\n",
    "print(\"Costo del auto de tus sueños:\", resultado[2])\n",
    "print(\"Número de meses para ahorrar:\", resultado[3])"
   ]
  },
  {
   "cell_type": "code",
   "execution_count": 8,
   "id": "12da8de3",
   "metadata": {},
   "outputs": [],
   "source": [
    "def ahorro_auto_inv(salario_mensual, proporcion_ahorrada, costo_auto):\n",
    "    ahorro_actual = 0\n",
    "    meses = 0\n",
    "    r = 0.1  # tasa de rendimiento mensual de la inversión\n",
    "    while ahorro_actual < 0.2 * costo_auto:\n",
    "        meses += 1\n",
    "        ahorro_actual += proporcion_ahorrada * salario_mensual\n",
    "        ahorro_actual += ahorro_actual * r\n",
    "    return salario_mensual, proporcion_ahorrada, costo_auto, meses"
   ]
  },
  {
   "cell_type": "code",
   "execution_count": 23,
   "id": "e85967ae",
   "metadata": {},
   "outputs": [
    {
     "name": "stdout",
     "output_type": "stream",
     "text": [
      "Salario mensual: 2600000\n",
      "Porcentaje de salario mensual que ahorrará: 0.1\n",
      "Costo del auto de tus sueños: 50000000\n",
      "Número de meses para ahorrar: 16\n"
     ]
    }
   ],
   "source": [
    "salario_mensual = 2600000\n",
    "proporcion_ahorrada = 0.1\n",
    "costo_auto = 50000000\n",
    "#llamamos cada resultado que da la funcion\n",
    "resultado = ahorro_auto_inv(salario_mensual, proporcion_ahorrada, costo_auto)\n",
    "print(\"Salario mensual:\", resultado[0])\n",
    "print(\"Porcentaje de salario mensual que ahorrará:\", resultado[1])\n",
    "print(\"Costo del auto de tus sueños:\", resultado[2])\n",
    "print(\"Número de meses para ahorrar:\", resultado[3])"
   ]
  },
  {
   "cell_type": "code",
   "execution_count": 65,
   "id": "66192e82",
   "metadata": {},
   "outputs": [],
   "source": [
    "def ahorro_auto_aum(salario_mensual, proporcion_ahorrada, costo_auto, proporcion_aumento_salario):\n",
    "    ahorro_actual = 0\n",
    "    meses = 0\n",
    "    num_meses = 0\n",
    "    salario_actual = salario_mensual \n",
    "    r = 0.1  # tasa de rendimiento mensual de la inversión\n",
    "    while ahorro_actual < 0.2 * costo_auto:\n",
    "        meses += 1\n",
    "        ahorro_actual += proporcion_ahorrada * salario_actual\n",
    "        ahorro_actual += ahorro_actual * r\n",
    "        if num_meses % 6 == 0:\n",
    "            salario_actual *= (1 + proporcion_aumento_salario)\n",
    "    return salario_mensual, proporcion_ahorrada, costo_auto, meses"
   ]
  },
  {
   "cell_type": "code",
   "execution_count": 66,
   "id": "e3531f7e",
   "metadata": {},
   "outputs": [
    {
     "name": "stdout",
     "output_type": "stream",
     "text": [
      "Salario mensual: 2600000\n",
      "Porcentaje de salario mensual que ahorrará: 0.1\n",
      "Costo del auto de tus sueños: 50000000\n",
      "Número de meses para ahorrar: 13\n"
     ]
    }
   ],
   "source": [
    "salario_mensual = 2600000\n",
    "proporcion_ahorrada = 0.1\n",
    "costo_auto = 50000000\n",
    "proporcion_aumento_salario = 0.1\n",
    "#llamamos cada resultado que da la funcion\n",
    "resultado = ahorro_auto_aum(salario_mensual, proporcion_ahorrada, costo_auto, proporcion_aumento_salario)\n",
    "print(\"Salario mensual:\", resultado[0])\n",
    "print(\"Porcentaje de salario mensual que ahorrará:\", resultado[1])\n",
    "print(\"Costo del auto de tus sueños:\", resultado[2])\n",
    "print(\"Número de meses para ahorrar:\", resultado[3])"
   ]
  },
  {
   "cell_type": "code",
   "execution_count": null,
   "id": "477fd3ad",
   "metadata": {},
   "outputs": [],
   "source": []
  }
 ],
 "metadata": {
  "kernelspec": {
   "display_name": "Python 3 (ipykernel)",
   "language": "python",
   "name": "python3"
  },
  "language_info": {
   "codemirror_mode": {
    "name": "ipython",
    "version": 3
   },
   "file_extension": ".py",
   "mimetype": "text/x-python",
   "name": "python",
   "nbconvert_exporter": "python",
   "pygments_lexer": "ipython3",
   "version": "3.10.9"
  }
 },
 "nbformat": 4,
 "nbformat_minor": 5
}
